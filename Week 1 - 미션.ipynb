{
 "cells": [
  {
   "cell_type": "markdown",
   "metadata": {},
   "source": [
    "📌Q1. 여러분은 파이썬을 통해 설문조사 문항의 응답내역을 분석하게 되었습니다. 문항별 응답 내용에는 하나의 응답만 할 수 있는 single choice 문제와 여러 응답을 선택할 수 있는 multiple choice 문제가 있습니다. 2개를 구분하기 위해 single choice 문항 번호에 \"_\"를 표기하지 않기로 했습니다.\n",
    "\n",
    "문항별 응답내역이 'question'에 담겨 있을 때, 조건문과 반복문을 사용하여 아래와 같은 결과가 출력되도록 코드를 작성해보세요."
   ]
  },
  {
   "cell_type": "code",
   "execution_count": 4,
   "metadata": {},
   "outputs": [
    {
     "name": "stdout",
     "output_type": "stream",
     "text": [
      "['Q2', 'Q3', 'Q4', 'Q5', 'Q8', 'Q9']\n"
     ]
    }
   ],
   "source": [
    "question = [\n",
    "    'Q2', 'Q3', 'Q4', 'Q5', 'Q6_1', 'Q6_2', 'Q6_3', 'Q6_4', 'Q6_5', 'Q6_6',\n",
    "    'Q6_7', 'Q6_8', 'Q6_9', 'Q6_10', 'Q6_11', 'Q6_12', 'Q7_1', 'Q7_2',\n",
    "    'Q7_3', 'Q7_4', 'Q7_5', 'Q7_6', 'Q7_7', 'Q8', 'Q9', 'Q10_1', 'Q10_2',\n",
    "    'Q10_3'\n",
    "]\n",
    "\n",
    "single_choice_questions = []\n",
    "\n",
    "for q in question:\n",
    "    if '_' not in q:\n",
    "        single_choice_questions.append(q)\n",
    "\n",
    "print(single_choice_questions)"
   ]
  },
  {
   "cell_type": "markdown",
   "metadata": {},
   "source": [
    "📌Q2. 한스 로슬링(Hans Rosling, 1948년 7월 27일 ~ 2017년 2월 7일)은 스웨덴의 의사이자 통계학자로 비영리 벤처 갭마인더 재단의 공동설립자이기도 합니다. 빅데이터를 가장 잘 활용하는 보건 통계학자로 알려져 있습니다. 베스트셀러 책인 \"팩트풀니스\" 저자이기도 합니다. 갭마인더 사이트에서는 연도별, 국가별 GDP와 기대수명 데이터를 제공하고 있는데, 대표적으로 파이썬 라이브러리 중 'seaborn'에서 제공되는 예제 데이터가 있습니다. 오늘은 이 데이터를 활용해 문제를 풀어보겠습니다.\n",
    "다음의 데이터는 연도, 국가별 기대수명을 나타내고 있는 데이터 입니다. 2011년 부터의 연도별, 국가별 평균 기대수명을 구해주세요. (2011년도 포함되게 구합니다.)\n",
    "\n",
    "- [필수 조건] groupby 나 pivot_table을 활용합니다. groupby 로 구할 때 unstack()이라는 기능을 사용하여 아래와 같이 컬럼에 인덱스 값을 올려서 표기할 수 있습니다.\n",
    "- 만약 행에는 '연도'가, 열에 '국가'가 들어있고 수치 데이터의 결과값이 아래와 같다면, 출력형태는 조금 달라도 괜찮습니다.\n",
    "- 데이터는 다음의 방법으로 읽어옵니다.\n",
    "    - import pandas as pd\n",
    "    - df = pd.read_csv(\"https://raw.githubusercontent.com/mwaskom/seaborn-data/master/healthexp.csv\")\n",
    "    - df\n",
    "- 잘 모르겠다면, 다음의 판다스 문서를 참고해서 풀어보세요! => https://pandas.pydata.org/docs/getting_started/intro_tutorials/07_reshape_table_layout.html"
   ]
  },
  {
   "cell_type": "code",
   "execution_count": 2,
   "metadata": {},
   "outputs": [
    {
     "name": "stdout",
     "output_type": "stream",
     "text": [
      "Country  Canada  France  Germany  Great Britain  Japan   USA\n",
      "Year                                                        \n",
      "2011       81.4    82.3     80.5           81.0   82.7  78.7\n",
      "2012       81.6    82.1     80.6           81.0   83.2  78.8\n",
      "2013       81.7    82.3     80.6           81.1   83.4  78.8\n",
      "2014       81.8    82.8     81.2           81.4   83.7  78.9\n",
      "2015       81.9    82.4     80.7           81.0   83.9  78.7\n",
      "2016       82.0    82.7     81.0           81.2   84.1  78.7\n",
      "2017       81.9    82.7     81.1           81.3   84.2  78.6\n",
      "2018       82.0    82.8     81.0           81.3   84.3  78.7\n",
      "2019       82.2    82.9     81.3           81.4   84.4  78.8\n",
      "2020       81.7    82.3     81.1           80.4   84.7  77.0\n"
     ]
    }
   ],
   "source": [
    "import pandas as pd\n",
    "\n",
    "df = pd.read_csv(\"https://raw.githubusercontent.com/mwaskom/seaborn-data/master/healthexp.csv\")\n",
    "\n",
    "df_filtered = df[df['Year'] >= 2011]\n",
    "\n",
    "result = df_filtered.groupby(['Year', 'Country'])['Life_Expectancy'].mean().unstack()\n",
    "\n",
    "print(result)"
   ]
  },
  {
   "cell_type": "markdown",
   "metadata": {},
   "source": [
    "📌Q3. Jupyter notebook 은 문서와 코드를 함께 작성할 수 있다는 점이 장점입니다. Jupyter notebook 에서 지원하는 Markdown 문법을 사용하여, 이번 주에 배운 내용을 정리해 보세요!\n",
    "\n",
    "이번주 학습 내용은 다음 링크를 참고해주세요! [1주차 학습 내용](스터디 전용 강좌 1주차 학습 안내 링크)\n",
    "1. 데이터 분석 환경 구성:https://www.boostcourse.org/ds112/joinLectures/28140\n",
    "2. 데이터 분석 준비하기:https://www.boostcourse.org/ds112/joinLectures/28138"
   ]
  },
  {
   "cell_type": "markdown",
   "metadata": {},
   "source": [
    "### 1. Jupyter Notebook 실행 방법\n",
    "\n",
    "- CMD에 ```jupyter notebook``` 입력하면 바로 실행\n",
    "- 개인적으로 코랩을 더 많이 사용하는 편이라 jupyter notebook 쓰는 방법도 익혀두면 좋을 것 같다.\n",
    "\n",
    "### 2. 주피터 노트북 사용법\n",
    "\n",
    "* Shift + Enter 키를 누르면 셀이 실행되고 커서가 다음 셀로 이동\n",
    "* Enter 키를 누르면 다시 편집 상태로 돌아옴\n",
    "* ESC 키를 누르고\n",
    "    * a키를 누르면 위에 셀이 추가됨\n",
    "    * b키를 누르면 아래에 셀이 추가됨\n",
    "    * dd키를 누르면 셀이 삭제됨\n",
    "    * m키를 누르면 문서 셀로 변경\n",
    "    * y키를 누르면 코드 셀로 변경\n",
    "    * h키를 누르면 다양한 단축키 목록 볼 수 있음"
   ]
  },
  {
   "cell_type": "markdown",
   "metadata": {},
   "source": [
    "📌Q4. 앞으로 우리는 공공데이터포털에서 데이터를 다운로드 받아 과정을 진행할 예정입니다. 본격적인 학습 이전에! 데이터를 다루는 방법이 익숙해지도록 한번 더 연습해보고, 어떤 문제를 풀 수 있을지도 함께 고민해보아요!\n",
    "\n",
    "- 공공데이터포털에서 원하는 데이터를 다운로드 받아 경로를 설정하고, 주피터 노트북과 판다스를 통해 불러와 보세요!\n",
    "어떤 데이터를 사용해야할지 고민된다면 다음 링크의 데이터를 다운로드 받아도 좋습니다.\n",
    "- [참고 예시] 공공데이터포털 - 서울특별시 강남구_생활폐기물배출량\n",
    "\n",
    "- 이 때, 인코딩 오류가 발생한다면 encoding=\"cp949\" 옵션을 사용해 주세요!\n",
    "cp949는 한글 윈도우에서 사용하는 인코딩 방식이랍니다. 인코딩과 관련된 자세한 내용은 다음을 참고해 주세요.\n",
    "- 문자 인코딩 - 위키백과, 우리 모두의 백과사전\n",
    "- 파일을 열거나 저장할 때 텍스트 인코딩 선택"
   ]
  },
  {
   "cell_type": "code",
   "execution_count": 3,
   "metadata": {},
   "outputs": [
    {
     "name": "stdout",
     "output_type": "stream",
     "text": [
      "    강남구  2019년(생활폐기물)-톤  2020년(생활폐기물)-톤\n",
      "0   01월            7550            7350\n",
      "1   02월            6387            6688\n",
      "2   03월            7198            6973\n",
      "3   04월            6820            6448\n",
      "4   05월            7767            6470\n",
      "5   06월            7275            7923\n",
      "6   07월            8164            8015\n",
      "7   08월            7807            7859\n",
      "8   09월            6811            7452\n",
      "9   10월            7222            6875\n",
      "10  11월            7592            7337\n",
      "11  12월            7298            6911\n"
     ]
    }
   ],
   "source": [
    "import pandas as pd\n",
    "\n",
    "file_path = \"C:\\\\Users\\\\ljm16\\\\Desktop\\\\서울특별시 강남구_생활폐기물배출량_20221019.csv\"\n",
    "\n",
    "\n",
    "df = pd.read_csv(file_path, encoding=\"cp949\")\n",
    "\n",
    "# 데이터 출력\n",
    "print(df)"
   ]
  },
  {
   "cell_type": "markdown",
   "metadata": {},
   "source": [
    "- 월별 생활 폐기물 배출량 추이 분석\n",
    "- 연도별 생활 폐기물 배출량 비교\n",
    "- 강남구 내 특정 지역 생활 폐기물 배출량 분석"
   ]
  }
 ],
 "metadata": {
  "kernelspec": {
   "display_name": "Python 3",
   "language": "python",
   "name": "python3"
  },
  "language_info": {
   "codemirror_mode": {
    "name": "ipython",
    "version": 3
   },
   "file_extension": ".py",
   "mimetype": "text/x-python",
   "name": "python",
   "nbconvert_exporter": "python",
   "pygments_lexer": "ipython3",
   "version": "3.10.11"
  }
 },
 "nbformat": 4,
 "nbformat_minor": 2
}
