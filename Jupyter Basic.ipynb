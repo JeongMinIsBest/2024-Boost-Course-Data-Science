{
 "cells": [
  {
   "cell_type": "markdown",
   "id": "1602aa25-40fd-42dd-8d5f-ae1b6720d196",
   "metadata": {},
   "source": [
    "# 주피터 노트북 사용법\n",
    "* Shift + Enter 키를 누르면 셀이 실행되고 커서가 다음 셀로 이동합니다.\n",
    "* Ctrl + Enter 키를 누르면 셀만 실행됩니다.\n",
    "* Enter 키를 누르면 다시 편집 상태로 돌아옵니다.\n",
    "* ESC 키를 누르고\n",
    "    * a 키를 누르면 위에 셀이 추가됩니다.\n",
    "    * b 키를 누르면 아래에 셀이 추가됩니다.\n",
    "    * dd 키를 누르면 셀이 삭제됩니다.\n",
    "    * m 키를 누르면 문서 셀로 변경됩니다.\n",
    "    * y 키를 누르면 코드 셀로 변경됩니다.\n",
    "    \n",
    "## 마크다운(Markdown)이란?\n",
    "* 코드와 함께 문서화를 하실 수 있습니다.\n",
    "* 문서화를 할 수 있는 ```문법```입니다.\n",
    "```\n",
    "여러 줄의 설명을\n",
    "줄바꿈으로 쓰고자 할 때\n",
    "```\n"
   ]
  },
  {
   "cell_type": "code",
   "execution_count": 1,
   "id": "8525295a-89b1-4fab-bd07-78f648a2b173",
   "metadata": {},
   "outputs": [
    {
     "name": "stdout",
     "output_type": "stream",
     "text": [
      "Hello World\n"
     ]
    }
   ],
   "source": [
    "print(\"Hello World\")"
   ]
  },
  {
   "cell_type": "code",
   "execution_count": null,
   "id": "d0f33cc2-6b8d-4f0d-ac70-5059451af4a5",
   "metadata": {},
   "outputs": [],
   "source": []
  }
 ],
 "metadata": {
  "kernelspec": {
   "display_name": "Python 3 (ipykernel)",
   "language": "python",
   "name": "python3"
  },
  "language_info": {
   "codemirror_mode": {
    "name": "ipython",
    "version": 3
   },
   "file_extension": ".py",
   "mimetype": "text/x-python",
   "name": "python",
   "nbconvert_exporter": "python",
   "pygments_lexer": "ipython3",
   "version": "3.10.11"
  }
 },
 "nbformat": 4,
 "nbformat_minor": 5
}
